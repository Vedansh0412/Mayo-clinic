{
 "cells": [
  {
   "cell_type": "code",
   "execution_count": 1,
   "id": "2254bb91",
   "metadata": {
    "_cell_guid": "b1076dfc-b9ad-4769-8c92-a6c4dae69d19",
    "_uuid": "8f2839f25d086af736a60e9eeb907d3b93b6e0e5",
    "execution": {
     "iopub.execute_input": "2023-06-24T05:16:47.240696Z",
     "iopub.status.busy": "2023-06-24T05:16:47.239838Z",
     "iopub.status.idle": "2023-06-24T05:16:47.529765Z",
     "shell.execute_reply": "2023-06-24T05:16:47.528757Z"
    },
    "papermill": {
     "duration": 0.303791,
     "end_time": "2023-06-24T05:16:47.532786",
     "exception": false,
     "start_time": "2023-06-24T05:16:47.228995",
     "status": "completed"
    },
    "tags": []
   },
   "outputs": [],
   "source": [
    "import numpy as np\n",
    "import pandas as pd\n",
    "import os\n",
    "import cv2\n",
    "import gc\n",
    "import sys\n",
    "from tifffile import TiffFile\n",
    "from tqdm import tqdm\n",
    "import matplotlib.pyplot as plt"
   ]
  },
  {
   "cell_type": "code",
   "execution_count": null,
   "id": "d3b49dde",
   "metadata": {
    "papermill": {
     "duration": 0.008074,
     "end_time": "2023-06-24T05:16:47.549119",
     "exception": false,
     "start_time": "2023-06-24T05:16:47.541045",
     "status": "completed"
    },
    "tags": []
   },
   "outputs": [],
   "source": []
  },
  {
   "cell_type": "code",
   "execution_count": 2,
   "id": "87fb1612",
   "metadata": {
    "execution": {
     "iopub.execute_input": "2023-06-24T05:16:47.566725Z",
     "iopub.status.busy": "2023-06-24T05:16:47.566385Z",
     "iopub.status.idle": "2023-06-24T05:16:48.507326Z",
     "shell.execute_reply": "2023-06-24T05:16:48.505960Z"
    },
    "papermill": {
     "duration": 0.952725,
     "end_time": "2023-06-24T05:16:48.509927",
     "exception": false,
     "start_time": "2023-06-24T05:16:47.557202",
     "status": "completed"
    },
    "tags": []
   },
   "outputs": [],
   "source": [
    "!mkdir /kaggle/temp"
   ]
  },
  {
   "cell_type": "code",
   "execution_count": 3,
   "id": "c0ca66e6",
   "metadata": {
    "execution": {
     "iopub.execute_input": "2023-06-24T05:16:48.528012Z",
     "iopub.status.busy": "2023-06-24T05:16:48.526974Z",
     "iopub.status.idle": "2023-06-24T05:16:48.559186Z",
     "shell.execute_reply": "2023-06-24T05:16:48.558066Z"
    },
    "papermill": {
     "duration": 0.044492,
     "end_time": "2023-06-24T05:16:48.562427",
     "exception": false,
     "start_time": "2023-06-24T05:16:48.517935",
     "status": "completed"
    },
    "tags": []
   },
   "outputs": [
    {
     "data": {
      "text/html": [
       "<div>\n",
       "<style scoped>\n",
       "    .dataframe tbody tr th:only-of-type {\n",
       "        vertical-align: middle;\n",
       "    }\n",
       "\n",
       "    .dataframe tbody tr th {\n",
       "        vertical-align: top;\n",
       "    }\n",
       "\n",
       "    .dataframe thead th {\n",
       "        text-align: right;\n",
       "    }\n",
       "</style>\n",
       "<table border=\"1\" class=\"dataframe\">\n",
       "  <thead>\n",
       "    <tr style=\"text-align: right;\">\n",
       "      <th></th>\n",
       "      <th>image_id</th>\n",
       "      <th>center_id</th>\n",
       "      <th>patient_id</th>\n",
       "      <th>image_num</th>\n",
       "      <th>label</th>\n",
       "    </tr>\n",
       "  </thead>\n",
       "  <tbody>\n",
       "    <tr>\n",
       "      <th>0</th>\n",
       "      <td>006388_0</td>\n",
       "      <td>11</td>\n",
       "      <td>006388</td>\n",
       "      <td>0</td>\n",
       "      <td>CE</td>\n",
       "    </tr>\n",
       "    <tr>\n",
       "      <th>1</th>\n",
       "      <td>008e5c_0</td>\n",
       "      <td>11</td>\n",
       "      <td>008e5c</td>\n",
       "      <td>0</td>\n",
       "      <td>CE</td>\n",
       "    </tr>\n",
       "    <tr>\n",
       "      <th>2</th>\n",
       "      <td>00c058_0</td>\n",
       "      <td>11</td>\n",
       "      <td>00c058</td>\n",
       "      <td>0</td>\n",
       "      <td>LAA</td>\n",
       "    </tr>\n",
       "    <tr>\n",
       "      <th>3</th>\n",
       "      <td>01adc5_0</td>\n",
       "      <td>11</td>\n",
       "      <td>01adc5</td>\n",
       "      <td>0</td>\n",
       "      <td>LAA</td>\n",
       "    </tr>\n",
       "    <tr>\n",
       "      <th>4</th>\n",
       "      <td>026c97_0</td>\n",
       "      <td>4</td>\n",
       "      <td>026c97</td>\n",
       "      <td>0</td>\n",
       "      <td>CE</td>\n",
       "    </tr>\n",
       "  </tbody>\n",
       "</table>\n",
       "</div>"
      ],
      "text/plain": [
       "   image_id  center_id patient_id  image_num label\n",
       "0  006388_0         11     006388          0    CE\n",
       "1  008e5c_0         11     008e5c          0    CE\n",
       "2  00c058_0         11     00c058          0   LAA\n",
       "3  01adc5_0         11     01adc5          0   LAA\n",
       "4  026c97_0          4     026c97          0    CE"
      ]
     },
     "execution_count": 3,
     "metadata": {},
     "output_type": "execute_result"
    }
   ],
   "source": [
    "df = pd.read_csv(\"../input/mayo-jpg-dataset-4x-downsampled/train.csv\")\n",
    "df.head()"
   ]
  },
  {
   "cell_type": "code",
   "execution_count": 4,
   "id": "5adaf5fe",
   "metadata": {
    "execution": {
     "iopub.execute_input": "2023-06-24T05:16:48.580045Z",
     "iopub.status.busy": "2023-06-24T05:16:48.579757Z",
     "iopub.status.idle": "2023-06-24T05:16:48.596096Z",
     "shell.execute_reply": "2023-06-24T05:16:48.595144Z"
    },
    "papermill": {
     "duration": 0.027253,
     "end_time": "2023-06-24T05:16:48.598188",
     "exception": false,
     "start_time": "2023-06-24T05:16:48.570935",
     "status": "completed"
    },
    "tags": []
   },
   "outputs": [
    {
     "data": {
      "text/html": [
       "<div>\n",
       "<style scoped>\n",
       "    .dataframe tbody tr th:only-of-type {\n",
       "        vertical-align: middle;\n",
       "    }\n",
       "\n",
       "    .dataframe tbody tr th {\n",
       "        vertical-align: top;\n",
       "    }\n",
       "\n",
       "    .dataframe thead th {\n",
       "        text-align: right;\n",
       "    }\n",
       "</style>\n",
       "<table border=\"1\" class=\"dataframe\">\n",
       "  <thead>\n",
       "    <tr style=\"text-align: right;\">\n",
       "      <th></th>\n",
       "      <th>image_id</th>\n",
       "      <th>center_id</th>\n",
       "      <th>patient_id</th>\n",
       "      <th>image_num</th>\n",
       "      <th>label</th>\n",
       "      <th>intlabel</th>\n",
       "    </tr>\n",
       "  </thead>\n",
       "  <tbody>\n",
       "    <tr>\n",
       "      <th>0</th>\n",
       "      <td>006388_0</td>\n",
       "      <td>11</td>\n",
       "      <td>006388</td>\n",
       "      <td>0</td>\n",
       "      <td>CE</td>\n",
       "      <td>1</td>\n",
       "    </tr>\n",
       "    <tr>\n",
       "      <th>1</th>\n",
       "      <td>008e5c_0</td>\n",
       "      <td>11</td>\n",
       "      <td>008e5c</td>\n",
       "      <td>0</td>\n",
       "      <td>CE</td>\n",
       "      <td>1</td>\n",
       "    </tr>\n",
       "    <tr>\n",
       "      <th>2</th>\n",
       "      <td>00c058_0</td>\n",
       "      <td>11</td>\n",
       "      <td>00c058</td>\n",
       "      <td>0</td>\n",
       "      <td>LAA</td>\n",
       "      <td>0</td>\n",
       "    </tr>\n",
       "    <tr>\n",
       "      <th>3</th>\n",
       "      <td>01adc5_0</td>\n",
       "      <td>11</td>\n",
       "      <td>01adc5</td>\n",
       "      <td>0</td>\n",
       "      <td>LAA</td>\n",
       "      <td>0</td>\n",
       "    </tr>\n",
       "    <tr>\n",
       "      <th>4</th>\n",
       "      <td>026c97_0</td>\n",
       "      <td>4</td>\n",
       "      <td>026c97</td>\n",
       "      <td>0</td>\n",
       "      <td>CE</td>\n",
       "      <td>1</td>\n",
       "    </tr>\n",
       "  </tbody>\n",
       "</table>\n",
       "</div>"
      ],
      "text/plain": [
       "   image_id  center_id patient_id  image_num label  intlabel\n",
       "0  006388_0         11     006388          0    CE         1\n",
       "1  008e5c_0         11     008e5c          0    CE         1\n",
       "2  00c058_0         11     00c058          0   LAA         0\n",
       "3  01adc5_0         11     01adc5          0   LAA         0\n",
       "4  026c97_0          4     026c97          0    CE         1"
      ]
     },
     "execution_count": 4,
     "metadata": {},
     "output_type": "execute_result"
    }
   ],
   "source": [
    "df[\"intlabel\"] = df.label.apply(lambda x: int(x==\"CE\"))\n",
    "df.head()"
   ]
  },
  {
   "cell_type": "code",
   "execution_count": 5,
   "id": "fcb560d9",
   "metadata": {
    "execution": {
     "iopub.execute_input": "2023-06-24T05:16:48.616781Z",
     "iopub.status.busy": "2023-06-24T05:16:48.615438Z",
     "iopub.status.idle": "2023-06-24T05:16:48.621494Z",
     "shell.execute_reply": "2023-06-24T05:16:48.620166Z"
    },
    "papermill": {
     "duration": 0.020202,
     "end_time": "2023-06-24T05:16:48.626638",
     "exception": false,
     "start_time": "2023-06-24T05:16:48.606436",
     "status": "completed"
    },
    "tags": []
   },
   "outputs": [],
   "source": [
    "# 切出し画像バッチのサイズ\n",
    "DEPTH = 128\n",
    "# 切出し画像バッチの画素数\n",
    "RESOLUTION = 4\n",
    "IMSIZE = 128\n",
    "# NN内のステージで選択する切出し画像の数\n",
    "SELECT = [64, 32, 12, 6, 4]"
   ]
  },
  {
   "cell_type": "code",
   "execution_count": 6,
   "id": "60758ae2",
   "metadata": {
    "execution": {
     "iopub.execute_input": "2023-06-24T05:16:48.644725Z",
     "iopub.status.busy": "2023-06-24T05:16:48.644431Z",
     "iopub.status.idle": "2023-06-24T05:16:48.649670Z",
     "shell.execute_reply": "2023-06-24T05:16:48.648694Z"
    },
    "papermill": {
     "duration": 0.016562,
     "end_time": "2023-06-24T05:16:48.651898",
     "exception": false,
     "start_time": "2023-06-24T05:16:48.635336",
     "status": "completed"
    },
    "tags": []
   },
   "outputs": [],
   "source": [
    "# 学習時と評価時のバッチサイズ\n",
    "BATCH_SIZE = 2\n",
    "BATCH_SIZE_VALID = 2\n",
    "DEPTH_PRETRAIN = 4\n",
    "# データの読み込みスレッドの数\n",
    "NUM_WORKERS = 2\n",
    "# 試行時の学習エポック数\n",
    "NUM_EPOCHS = 5\n",
    "NUM_PRETRAIN = 150\n",
    "# DAするか\n",
    "USE_MIXIN = True\n",
    "RAND_CLOP = 0.5\n",
    "DROP_PROBA = 0.03725"
   ]
  },
  {
   "cell_type": "code",
   "execution_count": 7,
   "id": "e10e758a",
   "metadata": {
    "execution": {
     "iopub.execute_input": "2023-06-24T05:16:48.669392Z",
     "iopub.status.busy": "2023-06-24T05:16:48.669112Z",
     "iopub.status.idle": "2023-06-24T05:16:51.372022Z",
     "shell.execute_reply": "2023-06-24T05:16:51.370270Z"
    },
    "papermill": {
     "duration": 2.714965,
     "end_time": "2023-06-24T05:16:51.375046",
     "exception": false,
     "start_time": "2023-06-24T05:16:48.660081",
     "status": "completed"
    },
    "tags": []
   },
   "outputs": [
    {
     "data": {
      "text/plain": [
       "<torch._C.Generator at 0x7ac2fb5b6bb0>"
      ]
     },
     "execution_count": 7,
     "metadata": {},
     "output_type": "execute_result"
    }
   ],
   "source": [
    "import torch\n",
    "from torch import nn, utils, optim\n",
    "import torch.nn.functional as F\n",
    "sys.path.append(\"../input/efficientnet-pytorch/EfficientNet-PyTorch/EfficientNet-PyTorch-master\")\n",
    "from efficientnet_pytorch import model as enet\n",
    "from sklearn.model_selection import train_test_split\n",
    "\n",
    "# GPUを使うかどうか\n",
    "USE_DEVICE = 'cuda:0' if torch.cuda.is_available() else 'cpu'\n",
    "\n",
    "# PyTorchの内部を決定論的に設定する\n",
    "torch.backends.cudnn.deterministic = True\n",
    "torch.backends.cudnn.benchmark = False\n",
    "#torch.backends.cudnn.enabled = False\n",
    "\n",
    "# 乱数を初期化する\n",
    "np.random.seed(42)\n",
    "torch.manual_seed(42)"
   ]
  },
  {
   "cell_type": "code",
   "execution_count": 8,
   "id": "34d95b55",
   "metadata": {
    "execution": {
     "iopub.execute_input": "2023-06-24T05:16:51.397295Z",
     "iopub.status.busy": "2023-06-24T05:16:51.396673Z",
     "iopub.status.idle": "2023-06-24T05:16:51.408829Z",
     "shell.execute_reply": "2023-06-24T05:16:51.407704Z"
    },
    "papermill": {
     "duration": 0.025848,
     "end_time": "2023-06-24T05:16:51.411380",
     "exception": false,
     "start_time": "2023-06-24T05:16:51.385532",
     "status": "completed"
    },
    "tags": []
   },
   "outputs": [],
   "source": [
    "def read_image(fname, scale):\n",
    "    if fname.endswith(\".tif\"):\n",
    "        try:\n",
    "            sz = os.path.getsize(fname)\n",
    "        except:\n",
    "            return np.zeros((IMSIZE,IMSIZE,3), dtype=np.uint8)\n",
    "        if(sz > 2e9):\n",
    "            return np.zeros((IMSIZE,IMSIZE,3), dtype=np.uint8)\n",
    "        try:\n",
    "            with TiffFile(fname) as tif:\n",
    "                if(sz > 5e8):\n",
    "                    image = tif.asarray(out=\"memmap\")\n",
    "                else:\n",
    "                    image = tif.asarray()\n",
    "            if len(image.shape) == 4:\n",
    "                image = image[0]\n",
    "            cvimage = image[::scale,::scale,::-1]\n",
    "            del image\n",
    "            gc.collect()\n",
    "            return np.asarray(cvimage)\n",
    "        except:\n",
    "            return np.zeros((IMSIZE,IMSIZE,3), dtype=np.uint8)\n",
    "    else:\n",
    "        image = cv2.imread(fname)\n",
    "        return image[::scale,::scale,:]"
   ]
  },
  {
   "cell_type": "code",
   "execution_count": 9,
   "id": "257cd6a6",
   "metadata": {
    "execution": {
     "iopub.execute_input": "2023-06-24T05:16:51.433574Z",
     "iopub.status.busy": "2023-06-24T05:16:51.432587Z",
     "iopub.status.idle": "2023-06-24T05:16:51.460910Z",
     "shell.execute_reply": "2023-06-24T05:16:51.459877Z"
    },
    "papermill": {
     "duration": 0.042396,
     "end_time": "2023-06-24T05:16:51.463674",
     "exception": false,
     "start_time": "2023-06-24T05:16:51.421278",
     "status": "completed"
    },
    "tags": []
   },
   "outputs": [],
   "source": [
    "# PyTorchの流儀でデータセットをクラスで定義する\n",
    "class MyDataset:\n",
    "    def __init__(self, names, targets, resolution=RESOLUTION, valid=False):\n",
    "        # 初期化 Xはファイル名のリスト、yは人物が写っているかどうかのリスト\n",
    "        self.names = names\n",
    "        self.targets = targets\n",
    "        self.valid = valid\n",
    "        self.resolution = resolution\n",
    "\n",
    "    def __len__(self):\n",
    "        # データセットの長さを返す\n",
    "        return len(self.names)\n",
    "\n",
    "    def __getitem__(self, pos):\n",
    "        def da(_im):\n",
    "            if self.valid == False:\n",
    "                r = np.random.randint(4)\n",
    "                if r == 1:\n",
    "                    _im = cv2.rotate(_im, cv2.ROTATE_90_CLOCKWISE)\n",
    "                elif r == 2:\n",
    "                    _im = cv2.rotate(_im, cv2.ROTATE_90_COUNTERCLOCKWISE)\n",
    "                elif r == 3:\n",
    "                    _im = cv2.rotate(_im, cv2.ROTATE_180)\n",
    "                r = np.random.randint(4)\n",
    "                if r == 1:\n",
    "                    _im = cv2.flip(_im, 0)\n",
    "                elif r == 2:\n",
    "                    _im = cv2.flip(_im, 1)\n",
    "                elif r == 3:\n",
    "                    _im = cv2.flip(_im, -1)\n",
    "                if np.random.random() < RAND_CLOP:\n",
    "                    s = np.random.randint(IMSIZE//2) + IMSIZE//2 - 2\n",
    "                    i = np.random.randint(IMSIZE-2) // 2\n",
    "                    j = np.random.randint(IMSIZE-2) // 2\n",
    "                    _im = _im[i:i+s, j:j+s, :]\n",
    "                    _im = cv2.resize(_im, (IMSIZE, IMSIZE))\n",
    "            return _im\n",
    "        def getone(_pos):\n",
    "            im = read_image(self.names[_pos], self.resolution)\n",
    "            imw, imh = im.shape[1] // IMSIZE, im.shape[0] // IMSIZE\n",
    "            batch = imw * imh\n",
    "            im = [da(im[IMSIZE*(i//imw):IMSIZE*(i//imw)+IMSIZE,IMSIZE*(i%imw):IMSIZE*(i%imw)+IMSIZE]) for i in range(batch)]\n",
    "            im = np.stack(im).astype(np.float32) / 255.5 # D,W,H,C\n",
    "            mean = np.reshape(np.mean(im, axis=-1), (batch,IMSIZE*IMSIZE))\n",
    "            std = np.std(mean, axis=-1)\n",
    "            idx = np.argsort(std)[::-1]\n",
    "            while len(idx) < DEPTH:\n",
    "                idx = np.hstack([idx, idx])\n",
    "            im = im[idx[:DEPTH]]\n",
    "            im = im.transpose((3,0,1,2)) # C,D,W,H\n",
    "            return im\n",
    "        if self.valid == False and USE_MIXIN:\n",
    "            im1 = getone(pos)\n",
    "            pos2 = np.random.randint(len(self.names))\n",
    "            while pos == pos2 or self.targets[pos] != self.targets[pos2]:\n",
    "                pos2 = np.random.randint(len(self.names))\n",
    "            im2 = getone(pos2)\n",
    "            split = np.random.randint(im1.shape[1])\n",
    "            im = im1\n",
    "            im[:,split:,:,:] = im2[:,split:,:,:]\n",
    "        else:\n",
    "            im = getone(pos)\n",
    "        if self.targets[pos] == 0:\n",
    "            target = np.array([1.0, 0.0], dtype=np.float32)\n",
    "        elif self.targets[pos] == 1:\n",
    "            target = np.array([0.0, 1.0], dtype=np.float32)\n",
    "        else:\n",
    "            target = np.array([0.0, 0.0], dtype=np.float32)\n",
    "        return im, target"
   ]
  },
  {
   "cell_type": "code",
   "execution_count": 10,
   "id": "58b9de30",
   "metadata": {
    "execution": {
     "iopub.execute_input": "2023-06-24T05:16:51.484194Z",
     "iopub.status.busy": "2023-06-24T05:16:51.483876Z",
     "iopub.status.idle": "2023-06-24T05:16:51.491956Z",
     "shell.execute_reply": "2023-06-24T05:16:51.490891Z"
    },
    "papermill": {
     "duration": 0.021125,
     "end_time": "2023-06-24T05:16:51.494490",
     "exception": false,
     "start_time": "2023-06-24T05:16:51.473365",
     "status": "completed"
    },
    "tags": []
   },
   "outputs": [],
   "source": [
    "# PyTorchの流儀でデータセットをクラスで定義する\n",
    "def get_backgroundclot(target, batch_size):\n",
    "    a = os.listdir(\"../input/strip-ai-background-clot/\"+target)\n",
    "    np.random.shuffle(a)\n",
    "    a = a[:batch_size]\n",
    "\n",
    "    im = [cv2.resize(cv2.imread(\"../input/strip-ai-background-clot/\"+target+\"/\"+i), (IMSIZE,IMSIZE)) for i in a]\n",
    "    im = np.stack(im).astype(np.float32) / 255.5\n",
    "    im = im.transpose((3,0,1,2)) # C,D,W,H\n",
    "    return im.reshape([1]+list(im.shape))"
   ]
  },
  {
   "cell_type": "code",
   "execution_count": 11,
   "id": "2c0e4255",
   "metadata": {
    "execution": {
     "iopub.execute_input": "2023-06-24T05:16:51.515139Z",
     "iopub.status.busy": "2023-06-24T05:16:51.514241Z",
     "iopub.status.idle": "2023-06-24T05:16:51.586491Z",
     "shell.execute_reply": "2023-06-24T05:16:51.585445Z"
    },
    "papermill": {
     "duration": 0.085135,
     "end_time": "2023-06-24T05:16:51.588875",
     "exception": false,
     "start_time": "2023-06-24T05:16:51.503740",
     "status": "completed"
    },
    "tags": []
   },
   "outputs": [
    {
     "data": {
      "text/plain": [
       "(0.728125, 0.7105263157894737)"
      ]
     },
     "execution_count": 11,
     "metadata": {},
     "output_type": "execute_result"
    }
   ],
   "source": [
    "train_X, test_X, train_y, test_y = train_test_split(df.image_id, df.intlabel, test_size=0.15, random_state=0)\n",
    "train_X = [\"../input/mayo-jpg-dataset-4x-downsampled/train/\"+x+\".jpg\" for x in list(train_X)]\n",
    "train_y = list(train_y)\n",
    "weight_y = sum(train_y) / len(train_y)\n",
    "other = [x for x in os.listdir(\"../input/mayo-jpg-dataset-4x-downsampled/other/\") if x.endswith(\".jpg\")]\n",
    "train_X += [\"../input/mayo-jpg-dataset-4x-downsampled/other/\"+x for x in other]\n",
    "train_y += [-1] * len(other)\n",
    "test_X = [\"../input/mayo-jpg-dataset-4x-downsampled/train/\"+x+\".jpg\" for x in list(test_X)]\n",
    "test_y = list(test_y)\n",
    "weight_y, sum(test_y) / len(test_y)"
   ]
  },
  {
   "cell_type": "code",
   "execution_count": 12,
   "id": "d6921bed",
   "metadata": {
    "execution": {
     "iopub.execute_input": "2023-06-24T05:16:51.610310Z",
     "iopub.status.busy": "2023-06-24T05:16:51.608347Z",
     "iopub.status.idle": "2023-06-24T05:16:51.616524Z",
     "shell.execute_reply": "2023-06-24T05:16:51.615474Z"
    },
    "papermill": {
     "duration": 0.020582,
     "end_time": "2023-06-24T05:16:51.618762",
     "exception": false,
     "start_time": "2023-06-24T05:16:51.598180",
     "status": "completed"
    },
    "tags": []
   },
   "outputs": [],
   "source": [
    "# 学習用と評価用にデータセットを作る\n",
    "train_ds = MyDataset(train_X, train_y, resolution=RESOLUTION)\n",
    "test_ds = MyDataset(test_X, test_y, resolution=RESOLUTION, valid=True)\n",
    "\n",
    "# 複数スレッドでファイルを読み込みつつデータを取り出すDataLoaderを作る\n",
    "data_loader = utils.data.DataLoader(\n",
    "    train_ds, batch_size=BATCH_SIZE, shuffle=True, num_workers=NUM_WORKERS)\n",
    "data_loader_v = utils.data.DataLoader(\n",
    "    test_ds, batch_size=BATCH_SIZE_VALID, shuffle=False, num_workers=NUM_WORKERS)"
   ]
  },
  {
   "cell_type": "code",
   "execution_count": 13,
   "id": "09808269",
   "metadata": {
    "execution": {
     "iopub.execute_input": "2023-06-24T05:16:51.642647Z",
     "iopub.status.busy": "2023-06-24T05:16:51.640395Z",
     "iopub.status.idle": "2023-06-24T05:16:51.688488Z",
     "shell.execute_reply": "2023-06-24T05:16:51.687592Z"
    },
    "papermill": {
     "duration": 0.063154,
     "end_time": "2023-06-24T05:16:51.690961",
     "exception": false,
     "start_time": "2023-06-24T05:16:51.627807",
     "status": "completed"
    },
    "tags": []
   },
   "outputs": [],
   "source": [
    "class TopKDepth(nn.Module):\n",
    "    def __init__(self, top_k, input_ch):\n",
    "        super(TopKDepth, self).__init__()\n",
    "        self.top_k = top_k\n",
    "        self.softplus = nn.Softplus()\n",
    "        self.proba = nn.Conv3d(input_ch, 1, kernel_size=(1,4,4), stride=1, padding=0, groups=1, bias=False)\n",
    "        self.pool = nn.AdaptiveAvgPool2d(1)\n",
    "        self.drop = nn.Dropout(p=DROP_PROBA)\n",
    "\n",
    "    def forward(self, input, proba):\n",
    "        p1 = self.proba(input)\n",
    "        p1 = torch.squeeze(p1, 1)\n",
    "        p1 = self.pool(p1)\n",
    "        p1 = torch.flatten(p1, start_dim=1)\n",
    "        p1 = self.drop(self.softplus(p1))\n",
    "        p2, i1 = torch.topk(p1, self.top_k, dim=1)\n",
    "        x1 = torch.stack([input[i,:,i1[i],:,:] for i in range(input.shape[0])])\n",
    "        proba = torch.stack([proba[i,i1[i]] for i in range(input.shape[0])])\n",
    "        proba = proba * torch.tanh(p2)\n",
    "        return x1, proba\n",
    "         \n",
    "class MayoNet(nn.Module):\n",
    "    def __init__(self, top_k=SELECT):\n",
    "        super(MayoNet, self).__init__()\n",
    "        conv = enet.EfficientNet.from_name('efficientnet-b0')\n",
    "        conv.load_state_dict(torch.load('../input/efficientnet-pytorch/efficientnet-b0-08094119.pth'))\n",
    "        self.topk1 = TopKDepth(top_k[0], 32)\n",
    "        self.topk2 = TopKDepth(top_k[1], 24)\n",
    "        self.topk3 = TopKDepth(top_k[2], 40)\n",
    "        self.topk4 = TopKDepth(top_k[3], 80)\n",
    "        self.topk5 = TopKDepth(top_k[4], 192)\n",
    "        # 必要な畳み込み層を作る\n",
    "        self.conv = conv\n",
    "        self.pool = nn.AdaptiveAvgPool2d(1)\n",
    "        self._swish = nn.SiLU()\n",
    "        self.encoder_layer = nn.TransformerEncoderLayer(d_model=320, nhead=4)\n",
    "        self.transformer = nn.TransformerEncoder(self.encoder_layer, num_layers=2)\n",
    "        self.fc = nn.Linear(320, 1, bias=False)\n",
    "\n",
    "    def extract_features(self, inputs, batch_size, depth_size):\n",
    "        proba = torch.ones((batch_size, depth_size)).to(USE_DEVICE)\n",
    "        # Stem\n",
    "        x = self._swish(self.conv._bn0(self.conv._conv_stem(inputs))) # BD, C, W, H\n",
    "        x = torch.reshape(x, (batch_size, depth_size, x.shape[1], x.shape[2], x.shape[3])) # B, D, C, W, H\n",
    "        x = torch.transpose(x, 1, 2) # B, C, D, W, H\n",
    "        x, p1 = self.topk1(x, proba) # B, C, D, W, H\n",
    "        depth_size = x.shape[2]\n",
    "        x = torch.transpose(x, 1, 2) # B, D, C, W, H\n",
    "        x = torch.reshape(x, (batch_size * depth_size, x.shape[2], x.shape[3], x.shape[4])) # BD, C, W, H\n",
    "\n",
    "        # Blocks\n",
    "        i = 0\n",
    "        for idx, block in enumerate(self.conv._blocks):\n",
    "            drop_connect_rate = self.conv._global_params.drop_connect_rate\n",
    "            if drop_connect_rate:\n",
    "                drop_connect_rate *= float(idx) / len(self.conv._blocks)  # scale drop connect_rate\n",
    "            x = block(x, drop_connect_rate=drop_connect_rate)\n",
    "            i += 1\n",
    "            if i == 2:\n",
    "                x = torch.reshape(x, (batch_size, depth_size, x.shape[1], x.shape[2], x.shape[3])) # B, D, C, W, H\n",
    "                x = torch.transpose(x, 1, 2) # B, C, D, W, H\n",
    "                x, p2 = self.topk2(x, p1) # B, C, D, W, H\n",
    "                depth_size = x.shape[2]\n",
    "                x = torch.transpose(x, 1, 2) # B, D, C, W, H\n",
    "                x = torch.reshape(x, (batch_size * depth_size, x.shape[2], x.shape[3], x.shape[4])) # BD, C, W, H\n",
    "            elif i == 4:\n",
    "                x = torch.reshape(x, (batch_size, depth_size, x.shape[1], x.shape[2], x.shape[3])) # B, D, C, W, H\n",
    "                x = torch.transpose(x, 1, 2) # B, C, D, W, H\n",
    "                x, p3 = self.topk3(x, p2) # B, C, D, W, H\n",
    "                depth_size = x.shape[2]\n",
    "                x = torch.transpose(x, 1, 2) # B, D, C, W, H\n",
    "                x = torch.reshape(x, (batch_size * depth_size, x.shape[2], x.shape[3], x.shape[4])) # BD, C, W, H\n",
    "            elif i == 6:\n",
    "                x = torch.reshape(x, (batch_size, depth_size, x.shape[1], x.shape[2], x.shape[3])) # B, D, C, W, H\n",
    "                x = torch.transpose(x, 1, 2) # B, C, D, W, H\n",
    "                x, p4 = self.topk4(x, p3) # B, C, D, W, H\n",
    "                depth_size = x.shape[2]\n",
    "                x = torch.transpose(x, 1, 2) # B, D, C, W, H\n",
    "                x = torch.reshape(x, (batch_size * depth_size, x.shape[2], x.shape[3], x.shape[4])) # BD, C, W, H\n",
    "            elif i == 12:\n",
    "                x = torch.reshape(x, (batch_size, depth_size, x.shape[1], x.shape[2], x.shape[3])) # B, D, C, W, H\n",
    "                x = torch.transpose(x, 1, 2) # B, C, D, W, H\n",
    "                x, p5 = self.topk5(x, p4) # B, C, D, W, H\n",
    "                depth_size = x.shape[2]\n",
    "                x = torch.transpose(x, 1, 2) # B, D, C, W, H\n",
    "                x = torch.reshape(x, (batch_size * depth_size, x.shape[2], x.shape[3], x.shape[4])) # BD, C, W, H\n",
    "        return x, p1, p2, p3, p4, p5\n",
    "\n",
    "    def set_top_k(self, top_k, dropout=DROP_PROBA):\n",
    "        self.topk1.top_k = top_k[0]\n",
    "        self.topk1.drop.p = dropout\n",
    "        self.topk2.top_k = top_k[1]\n",
    "        self.topk2.drop.p = dropout\n",
    "        self.topk3.top_k = top_k[2]\n",
    "        self.topk3.drop.p = dropout\n",
    "        self.topk4.top_k = top_k[3]\n",
    "        self.topk4.drop.p = dropout\n",
    "        self.topk5.top_k = top_k[4]\n",
    "        self.topk5.drop.p = dropout\n",
    "\n",
    "    def forward(self, input): # B, C, D, W, H\n",
    "        batch_size, depth_size = input.shape[0], input.shape[2]\n",
    "        p = torch.transpose(input, 1, 2) # B, D, C, W, H\n",
    "        p = torch.reshape(p, (p.shape[0] * p.shape[1], p.shape[2], p.shape[3], p.shape[4])) # BD, C, W, H\n",
    "        x, p1, p2, p3, p4, p5 = self.extract_features(p, batch_size, depth_size) # BD, C=320, W, H\n",
    "        x = torch.flatten(self.pool(x), start_dim=1) # BD, C\n",
    "        x = torch.sigmoid(self.fc(x)) # BD, C=1\n",
    "        x = torch.reshape(x, (batch_size, -1)) # B, D\n",
    "        prob_last = p5\n",
    "        out1 = torch.mean(torch.mul(x, prob_last), dim=1, keepdim=True) # B, 1\n",
    "        out2 = torch.mean(torch.mul(1.0-x, prob_last), dim=1, keepdim=True) # B, 1\n",
    "        p1 = torch.mean(p1, dim=1, keepdim=False)\n",
    "        p2 = torch.mean(p2, dim=1, keepdim=False)\n",
    "        p3 = torch.mean(p3, dim=1, keepdim=False)\n",
    "        p4 = torch.mean(p4, dim=1, keepdim=False)\n",
    "        p5 = torch.mean(p5, dim=1, keepdim=False)\n",
    "        output = torch.cat([out1, out2], dim=-1) # B, 2\n",
    "        probability = (p1 + p2 + p3 + p4 + p5) / 5.0 # B\n",
    "        return output, probability"
   ]
  },
  {
   "cell_type": "code",
   "execution_count": 14,
   "id": "e9862c4a",
   "metadata": {
    "execution": {
     "iopub.execute_input": "2023-06-24T05:16:51.710049Z",
     "iopub.status.busy": "2023-06-24T05:16:51.709750Z",
     "iopub.status.idle": "2023-06-24T05:16:55.296521Z",
     "shell.execute_reply": "2023-06-24T05:16:55.295463Z"
    },
    "papermill": {
     "duration": 3.598878,
     "end_time": "2023-06-24T05:16:55.298859",
     "exception": false,
     "start_time": "2023-06-24T05:16:51.699981",
     "status": "completed"
    },
    "tags": []
   },
   "outputs": [
    {
     "data": {
      "text/plain": [
       "10470500"
      ]
     },
     "execution_count": 14,
     "metadata": {},
     "output_type": "execute_result"
    }
   ],
   "source": [
    "model = MayoNet()\n",
    "model.to(USE_DEVICE) # GPUを使うときはGPUメモリ上に乗せる\n",
    "sum(p.numel() for p in model.parameters())"
   ]
  },
  {
   "cell_type": "code",
   "execution_count": 15,
   "id": "6cb702f4",
   "metadata": {
    "execution": {
     "iopub.execute_input": "2023-06-24T05:16:55.318372Z",
     "iopub.status.busy": "2023-06-24T05:16:55.318057Z",
     "iopub.status.idle": "2023-06-24T05:16:55.328023Z",
     "shell.execute_reply": "2023-06-24T05:16:55.326946Z"
    },
    "papermill": {
     "duration": 0.02257,
     "end_time": "2023-06-24T05:16:55.330638",
     "exception": false,
     "start_time": "2023-06-24T05:16:55.308068",
     "status": "completed"
    },
    "tags": []
   },
   "outputs": [],
   "source": [
    "params = model.parameters()\n",
    "optimizer = optim.Adam(params)\n",
    "bceloss = nn.BCELoss()\n",
    "\n",
    "def loss(pred, true):\n",
    "    if true.shape[-1] == 2:\n",
    "        proba = true.sum(axis=1)\n",
    "        w1 = (proba * weight_y) + (1 - proba) * 0.5\n",
    "        w2 = (proba * (1-weight_y)) + (1 - proba) * 0.5\n",
    "        l1 = torch.pow(pred[0][:,0] - true[:,0], 4) * w1\n",
    "        l2 = torch.pow(pred[0][:,1] - true[:,1], 4) * w2\n",
    "        return torch.mean(l1 + l2)\n",
    "    return bceloss(pred[1], true)"
   ]
  },
  {
   "cell_type": "code",
   "execution_count": 16,
   "id": "b5b5079e",
   "metadata": {
    "execution": {
     "iopub.execute_input": "2023-06-24T05:16:55.349967Z",
     "iopub.status.busy": "2023-06-24T05:16:55.349420Z",
     "iopub.status.idle": "2023-06-24T05:16:55.356599Z",
     "shell.execute_reply": "2023-06-24T05:16:55.355618Z"
    },
    "papermill": {
     "duration": 0.018957,
     "end_time": "2023-06-24T05:16:55.358566",
     "exception": false,
     "start_time": "2023-06-24T05:16:55.339609",
     "status": "completed"
    },
    "tags": []
   },
   "outputs": [],
   "source": [
    "def score(pred, true):\n",
    "    if true.shape[-1] == 2:\n",
    "        psum = torch.sum(pred, axis=1, keepdim=True)\n",
    "        pzero = (psum == 0).float()\n",
    "        psum += pzero\n",
    "        pred = pred / psum + pzero / 2\n",
    "        pred = torch.clip(pred, 1e-15, 1.0-1e-15)\n",
    "        w = true.argmax(axis=1).float().mean()\n",
    "        score = torch.mul(torch.log(pred), true) * torch.tensor([w, 1-w]) / pred.shape[0]\n",
    "        return -torch.sum(score)\n",
    "    return -1"
   ]
  },
  {
   "cell_type": "code",
   "execution_count": 17,
   "id": "534ba2f7",
   "metadata": {
    "execution": {
     "iopub.execute_input": "2023-06-24T05:16:55.378064Z",
     "iopub.status.busy": "2023-06-24T05:16:55.377736Z",
     "iopub.status.idle": "2023-06-24T05:16:55.385201Z",
     "shell.execute_reply": "2023-06-24T05:16:55.384317Z"
    },
    "papermill": {
     "duration": 0.019386,
     "end_time": "2023-06-24T05:16:55.387292",
     "exception": false,
     "start_time": "2023-06-24T05:16:55.367906",
     "status": "completed"
    },
    "tags": []
   },
   "outputs": [],
   "source": [
    "def accuracy(pred, true):\n",
    "    if true.shape[-1] == 2:\n",
    "        m = true.argmax(axis=1)\n",
    "        n = pred.argmax(axis=1)\n",
    "        p = (m*n==1).float().sum() / torch.sum(m)\n",
    "        q = ((1-m)*(1-n)==1).float().sum() / torch.sum(1-m)\n",
    "        return (p+q) / 2\n",
    "    return -1"
   ]
  },
  {
   "cell_type": "code",
   "execution_count": 18,
   "id": "4623bc5f",
   "metadata": {
    "execution": {
     "iopub.execute_input": "2023-06-24T05:16:55.407224Z",
     "iopub.status.busy": "2023-06-24T05:16:55.406341Z",
     "iopub.status.idle": "2023-06-24T05:16:55.412796Z",
     "shell.execute_reply": "2023-06-24T05:16:55.411923Z"
    },
    "papermill": {
     "duration": 0.018665,
     "end_time": "2023-06-24T05:16:55.414894",
     "exception": false,
     "start_time": "2023-06-24T05:16:55.396229",
     "status": "completed"
    },
    "tags": []
   },
   "outputs": [],
   "source": [
    "def train_one(X, y):\n",
    "    model.train() # モデルを学習用に設定する\n",
    "\n",
    "    X = X.to(USE_DEVICE) # GPUを使うときはGPUメモリ上に乗せる\n",
    "    y = y.to(USE_DEVICE) # GPUを使うときはGPUメモリ上に乗せる\n",
    "\n",
    "    # ニューラルネットワークを実行して損失値を求める\n",
    "    losses = loss(model(X), y)\n",
    "\n",
    "    # 新しいバッチ分の学習を行う\n",
    "    optimizer.zero_grad() # 一つ前の勾配をクリア\n",
    "    losses.backward() # 損失値を逆伝播させる\n",
    "    optimizer.step() # 新しい勾配からパラメーターを更新する\n",
    "\n",
    "    return losses"
   ]
  },
  {
   "cell_type": "code",
   "execution_count": 19,
   "id": "ed422683",
   "metadata": {
    "execution": {
     "iopub.execute_input": "2023-06-24T05:16:55.434717Z",
     "iopub.status.busy": "2023-06-24T05:16:55.433794Z",
     "iopub.status.idle": "2023-06-24T05:17:42.923974Z",
     "shell.execute_reply": "2023-06-24T05:17:42.922965Z"
    },
    "papermill": {
     "duration": 47.502258,
     "end_time": "2023-06-24T05:17:42.926222",
     "exception": false,
     "start_time": "2023-06-24T05:16:55.423964",
     "status": "completed"
    },
    "tags": []
   },
   "outputs": [
    {
     "name": "stdout",
     "output_type": "stream",
     "text": [
      "start pretrain\n"
     ]
    },
    {
     "name": "stderr",
     "output_type": "stream",
     "text": [
      "100%|██████████| 150/150 [00:47<00:00,  3.16it/s]\n"
     ]
    }
   ],
   "source": [
    "print(\"start pretrain\")\n",
    "\n",
    "pretrain_losses = []\n",
    "\n",
    "model.set_top_k(top_k=[DEPTH_PRETRAIN]*5, dropout=0.0)\n",
    "for _ in tqdm(range(NUM_PRETRAIN)):\n",
    "    # 切り抜きを学習\n",
    "    X = torch.Tensor(get_backgroundclot(\"positive\", DEPTH_PRETRAIN))\n",
    "    y = torch.ones([1])\n",
    "    loss1 = train_one(X, y)\n",
    "    X = torch.Tensor(get_backgroundclot(\"negative\", DEPTH_PRETRAIN))\n",
    "    y = torch.zeros([1])\n",
    "    loss2 = train_one(X, y)\n",
    "    pretrain_losses.append((loss1.detach().cpu().numpy() + loss2.detach().cpu().numpy())/2)\n",
    "del loss1, loss2"
   ]
  },
  {
   "cell_type": "code",
   "execution_count": 20,
   "id": "01132387",
   "metadata": {
    "execution": {
     "iopub.execute_input": "2023-06-24T05:17:42.968795Z",
     "iopub.status.busy": "2023-06-24T05:17:42.967834Z",
     "iopub.status.idle": "2023-06-24T05:17:43.189904Z",
     "shell.execute_reply": "2023-06-24T05:17:43.188928Z"
    },
    "papermill": {
     "duration": 0.245913,
     "end_time": "2023-06-24T05:17:43.192331",
     "exception": false,
     "start_time": "2023-06-24T05:17:42.946418",
     "status": "completed"
    },
    "tags": []
   },
   "outputs": [
    {
     "data": {
      "image/png": "[encoded data removed]",
      "text/plain": [
       "<Figure size 360x360 with 1 Axes>"
      ]
     },
     "metadata": {
      "needs_background": "light"
     },
     "output_type": "display_data"
    }
   ],
   "source": [
    "plt.figure(figsize=(5,5))\n",
    "plt.plot(pretrain_losses)\n",
    "del pretrain_losses"
   ]
  },
  {
   "cell_type": "code",
   "execution_count": 21,
   "id": "2270a6db",
   "metadata": {
    "execution": {
     "iopub.execute_input": "2023-06-24T05:17:43.235223Z",
     "iopub.status.busy": "2023-06-24T05:17:43.234860Z",
     "iopub.status.idle": "2023-06-24T07:29:11.435900Z",
     "shell.execute_reply": "2023-06-24T07:29:11.434625Z"
    },
    "papermill": {
     "duration": 7888.225704,
     "end_time": "2023-06-24T07:29:11.438972",
     "exception": false,
     "start_time": "2023-06-24T05:17:43.213268",
     "status": "completed"
    },
    "tags": []
   },
   "outputs": [
    {
     "name": "stdout",
     "output_type": "stream",
     "text": [
      "start train\n"
     ]
    },
    {
     "name": "stderr",
     "output_type": "stream",
     "text": [
      "100%|██████████| 518/518 [23:56<00:00,  2.77s/it]\n"
     ]
    },
    {
     "name": "stdout",
     "output_type": "stream",
     "text": [
      "start validation\n"
     ]
    },
    {
     "name": "stderr",
     "output_type": "stream",
     "text": [
      "100%|██████████| 57/57 [01:20<00:00,  1.41s/it]\n"
     ]
    },
    {
     "name": "stdout",
     "output_type": "stream",
     "text": [
      "epoch #0: train_loss:0.10664071887731552 valid_loss:0.16272978484630585 valid_proba:0.6066559092776036 accuracy:0.5875420570373535 score:0.30835458636283875 meanclass:0.5789473684210527\n",
      "start train\n"
     ]
    },
    {
     "name": "stderr",
     "output_type": "stream",
     "text": [
      "100%|██████████| 518/518 [25:09<00:00,  2.91s/it]\n"
     ]
    },
    {
     "name": "stdout",
     "output_type": "stream",
     "text": [
      "start validation\n"
     ]
    },
    {
     "name": "stderr",
     "output_type": "stream",
     "text": [
      "100%|██████████| 57/57 [01:21<00:00,  1.43s/it]\n"
     ]
    },
    {
     "name": "stdout",
     "output_type": "stream",
     "text": [
      "epoch #1: train_loss:0.06294340640306473 valid_loss:0.08507252484560013 valid_proba:0.9071733668883609 accuracy:0.5370370149612427 score:0.288736492395401 meanclass:0.7192982456140351\n",
      "start train\n"
     ]
    },
    {
     "name": "stderr",
     "output_type": "stream",
     "text": [
      "100%|██████████| 518/518 [25:02<00:00,  2.90s/it]\n"
     ]
    },
    {
     "name": "stdout",
     "output_type": "stream",
     "text": [
      "start validation\n"
     ]
    },
    {
     "name": "stderr",
     "output_type": "stream",
     "text": [
      "100%|██████████| 57/57 [01:21<00:00,  1.43s/it]\n"
     ]
    },
    {
     "name": "stdout",
     "output_type": "stream",
     "text": [
      "epoch #2: train_loss:0.06683001667261124 valid_loss:0.2698460519313812 valid_proba:0.3235375964525113 accuracy:0.4927048087120056 score:0.286731094121933 meanclass:0.5350877192982456\n",
      "start train\n"
     ]
    },
    {
     "name": "stderr",
     "output_type": "stream",
     "text": [
      "100%|██████████| 518/518 [25:24<00:00,  2.94s/it]\n"
     ]
    },
    {
     "name": "stdout",
     "output_type": "stream",
     "text": [
      "start validation\n"
     ]
    },
    {
     "name": "stderr",
     "output_type": "stream",
     "text": [
      "100%|██████████| 57/57 [01:21<00:00,  1.44s/it]\n"
     ]
    },
    {
     "name": "stdout",
     "output_type": "stream",
     "text": [
      "epoch #3: train_loss:0.06004200875759125 valid_loss:0.24160385131835938 valid_proba:0.41604001635835774 accuracy:0.5168349742889404 score:0.2842441499233246 meanclass:0.5087719298245614\n",
      "start train\n"
     ]
    },
    {
     "name": "stderr",
     "output_type": "stream",
     "text": [
      "100%|██████████| 518/518 [25:04<00:00,  2.90s/it]\n"
     ]
    },
    {
     "name": "stdout",
     "output_type": "stream",
     "text": [
      "start validation\n"
     ]
    },
    {
     "name": "stderr",
     "output_type": "stream",
     "text": [
      "100%|██████████| 57/57 [01:24<00:00,  1.48s/it]\n"
     ]
    },
    {
     "name": "stdout",
     "output_type": "stream",
     "text": [
      "epoch #4: train_loss:0.060846563428640366 valid_loss:0.26539748907089233 valid_proba:0.3869099692817366 accuracy:0.5286195278167725 score:0.28488534688949585 meanclass:0.4649122807017544\n"
     ]
    }
   ],
   "source": [
    "model.set_top_k(top_k=SELECT, dropout=DROP_PROBA)\n",
    "model = nn.DataParallel(model)\n",
    "\n",
    "scores_a = [] # 各エポック終了時のスコア\n",
    "scores_p = [] # 各エポック終了時のスコア\n",
    "losses_t = [] # 各エポック終了時の損失\n",
    "losses_v = [] # 各エポック終了時の評価損失\n",
    "probabilities = [] # 各エポック終了時のproba損失\n",
    "\n",
    "# 学習ループ\n",
    "for epoch in range(NUM_EPOCHS):\n",
    "    total_loss = [] # 各バッチ実行時の損失値\n",
    "   \n",
    "    print(\"start train\")\n",
    "    model.train() # モデルを学習用に設定する\n",
    "    for X, y in tqdm(data_loader): # 画像を読み込んでtensorにする\n",
    "        # 画像認識を学習\n",
    "        losses = train_one(X, y)\n",
    "        total_loss.append(losses.detach().cpu().numpy())\n",
    "\n",
    "    # 評価\n",
    "    with torch.no_grad():\n",
    "        # 評価時の損失値と正解/認識結果を入れるリスト\n",
    "        total_loss_v = []\n",
    "        total_proba = []\n",
    "        total_preds_v = []\n",
    "        total_trues_v = []\n",
    "        \n",
    "        model.eval() # モデルを推論用に設定する\n",
    "        print(\"start validation\")\n",
    "        for X, y in tqdm(data_loader_v):\n",
    "            X = X.to(USE_DEVICE) # GPUを使うときはGPUメモリ上に乗せる\n",
    "            y = y.to(USE_DEVICE) # GPUを使うときはGPUメモリ上に乗せる\n",
    "\n",
    "            res = model(X) # ニューラルネットワークの実行\n",
    "            losses = loss(res, y) # 評価データの損失値\n",
    "\n",
    "            # 損失値を保存しておく\n",
    "            total_loss_v.append(losses.detach().cpu().numpy())\n",
    "            total_proba.extend(torch.sum(res[0], axis=1).detach().cpu().numpy().tolist())\n",
    "            total_preds_v.extend(res[0].detach().cpu().numpy().tolist())\n",
    "            total_trues_v.extend(y.detach().cpu().numpy().tolist())\n",
    "\n",
    "    # エポック終了時のスコアを求める\n",
    "    total_loss = np.mean(total_loss) # 各バッチの損失の平均\n",
    "    total_loss_v = np.mean(total_loss_v) # 各バッチの損失の平均\n",
    "    total_proba = np.mean(total_proba) # 各バッチの損失の平均\n",
    "    total_score_a = accuracy(torch.tensor(total_preds_v), torch.tensor(total_trues_v)).numpy().tolist() # スコアを求める\n",
    "    total_score_p = score(torch.tensor(total_preds_v), torch.tensor(total_trues_v)).numpy().tolist() # スコアを求める\n",
    "    meanclass = np.mean(np.array(total_preds_v).argmax(axis=1))\n",
    "    # エポック終了時のスコアを表示する\n",
    "    print(f'epoch #{epoch}: train_loss:{total_loss} valid_loss:{total_loss_v} valid_proba:{total_proba} accuracy:{total_score_a} score:{total_score_p} meanclass:{meanclass}')\n",
    "    losses_t.append(total_loss)\n",
    "    losses_v.append(total_loss_v)\n",
    "    probabilities.append(total_proba)\n",
    "    scores_a.append(total_score_a)\n",
    "    scores_p.append(total_score_p)\n",
    "    # エポック終了時のモデルを保存しておく\n",
    "    torch.save(model.state_dict(), f'/kaggle/temp/checkpoint{epoch}.pth')\n",
    "del total_loss, losses, total_loss_v, total_proba, total_preds_v, total_trues_v, res, total_score_a, total_score_p, meanclass"
   ]
  },
  {
   "cell_type": "code",
   "execution_count": 22,
   "id": "cb86d10a",
   "metadata": {
    "execution": {
     "iopub.execute_input": "2023-06-24T07:29:12.096261Z",
     "iopub.status.busy": "2023-06-24T07:29:12.095141Z",
     "iopub.status.idle": "2023-06-24T07:29:12.783453Z",
     "shell.execute_reply": "2023-06-24T07:29:12.782444Z"
    },
    "papermill": {
     "duration": 1.012155,
     "end_time": "2023-06-24T07:29:12.786251",
     "exception": false,
     "start_time": "2023-06-24T07:29:11.774096",
     "status": "completed"
    },
    "tags": []
   },
   "outputs": [
    {
     "data": {
      "text/plain": [
       "[<matplotlib.lines.Line2D at 0x7ac24b218b10>]"
      ]
     },
     "execution_count": 22,
     "metadata": {},
     "output_type": "execute_result"
    },
    {
     "data": {
      "image/png": "[encoded data removed]",
      "text/plain": [
       "<Figure size 1800x360 with 5 Axes>"
      ]
     },
     "metadata": {
      "needs_background": "light"
     },
     "output_type": "display_data"
    }
   ],
   "source": [
    "plt.figure(figsize=(25,5))\n",
    "plt.subplot(151)\n",
    "plt.plot(losses_t)\n",
    "plt.subplot(152)\n",
    "plt.plot(losses_v)\n",
    "plt.subplot(153)\n",
    "plt.plot(probabilities)\n",
    "plt.subplot(154)\n",
    "plt.plot(scores_a)\n",
    "plt.subplot(155)\n",
    "plt.plot(scores_p)"
   ]
  },
  {
   "cell_type": "code",
   "execution_count": 23,
   "id": "a39ef6f3",
   "metadata": {
    "execution": {
     "iopub.execute_input": "2023-06-24T07:29:13.239531Z",
     "iopub.status.busy": "2023-06-24T07:29:13.238442Z",
     "iopub.status.idle": "2023-06-24T07:29:13.244313Z",
     "shell.execute_reply": "2023-06-24T07:29:13.243151Z"
    },
    "papermill": {
     "duration": 0.235248,
     "end_time": "2023-06-24T07:29:13.246724",
     "exception": false,
     "start_time": "2023-06-24T07:29:13.011476",
     "status": "completed"
    },
    "tags": []
   },
   "outputs": [],
   "source": [
    "load_index = np.argmin(scores_p)\n",
    "del scores_a, scores_p, losses_t, losses_v, probabilities"
   ]
  },
  {
   "cell_type": "code",
   "execution_count": 24,
   "id": "4e7ab16d",
   "metadata": {
    "execution": {
     "iopub.execute_input": "2023-06-24T07:29:13.704476Z",
     "iopub.status.busy": "2023-06-24T07:29:13.703412Z",
     "iopub.status.idle": "2023-06-24T07:29:13.899129Z",
     "shell.execute_reply": "2023-06-24T07:29:13.897959Z"
    },
    "papermill": {
     "duration": 0.424011,
     "end_time": "2023-06-24T07:29:13.902206",
     "exception": false,
     "start_time": "2023-06-24T07:29:13.478195",
     "status": "completed"
    },
    "tags": []
   },
   "outputs": [
    {
     "data": {
      "text/plain": [
       "62"
      ]
     },
     "execution_count": 24,
     "metadata": {},
     "output_type": "execute_result"
    }
   ],
   "source": [
    "del df, train_X, test_X, train_y, test_y, weight_y, train_ds, test_ds, data_loader, data_loader_v, params, optimizer, bceloss\n",
    "gc.collect()"
   ]
  },
  {
   "cell_type": "code",
   "execution_count": 25,
   "id": "1be803b1",
   "metadata": {
    "execution": {
     "iopub.execute_input": "2023-06-24T07:29:14.352143Z",
     "iopub.status.busy": "2023-06-24T07:29:14.351757Z",
     "iopub.status.idle": "2023-06-24T07:29:14.756864Z",
     "shell.execute_reply": "2023-06-24T07:29:14.755802Z"
    },
    "papermill": {
     "duration": 0.632568,
     "end_time": "2023-06-24T07:29:14.759268",
     "exception": false,
     "start_time": "2023-06-24T07:29:14.126700",
     "status": "completed"
    },
    "tags": []
   },
   "outputs": [
    {
     "data": {
      "text/plain": [
       "<All keys matched successfully>"
      ]
     },
     "execution_count": 25,
     "metadata": {},
     "output_type": "execute_result"
    }
   ],
   "source": [
    "model.load_state_dict(torch.load(f'/kaggle/temp/checkpoint{load_index}.pth'))"
   ]
  },
  {
   "cell_type": "code",
   "execution_count": 26,
   "id": "72af3abd",
   "metadata": {
    "execution": {
     "iopub.execute_input": "2023-06-24T07:29:15.220401Z",
     "iopub.status.busy": "2023-06-24T07:29:15.220025Z",
     "iopub.status.idle": "2023-06-24T07:29:15.270576Z",
     "shell.execute_reply": "2023-06-24T07:29:15.269541Z"
    },
    "papermill": {
     "duration": 0.283846,
     "end_time": "2023-06-24T07:29:15.273077",
     "exception": false,
     "start_time": "2023-06-24T07:29:14.989231",
     "status": "completed"
    },
    "tags": []
   },
   "outputs": [],
   "source": [
    "df = pd.read_csv(\"../input/mayo-clinic-strip-ai/test.csv\")\n",
    "pred_X = [\"../input/mayo-clinic-strip-ai/test/\"+x+\".tif\" for x in list(df.image_id)]\n",
    "pred_ID = list(df.patient_id)\n",
    "pred_y = [-1] * len(pred_X)\n",
    "\n",
    "pred_ds = MyDataset(pred_X, pred_y, resolution=RESOLUTION*4, valid=True) # train dataset is 4x downscaled.\n",
    "\n",
    "data_loader_p = utils.data.DataLoader(\n",
    "    pred_ds, batch_size=1, shuffle=False, num_workers=1)"
   ]
  },
  {
   "cell_type": "code",
   "execution_count": 27,
   "id": "811c1120",
   "metadata": {
    "execution": {
     "iopub.execute_input": "2023-06-24T07:29:15.746687Z",
     "iopub.status.busy": "2023-06-24T07:29:15.746136Z",
     "iopub.status.idle": "2023-06-24T07:31:35.662407Z",
     "shell.execute_reply": "2023-06-24T07:31:35.660318Z"
    },
    "papermill": {
     "duration": 140.399698,
     "end_time": "2023-06-24T07:31:35.904756",
     "exception": false,
     "start_time": "2023-06-24T07:29:15.505058",
     "status": "completed"
    },
    "tags": []
   },
   "outputs": [
    {
     "name": "stdout",
     "output_type": "stream",
     "text": [
      "start prediction\n"
     ]
    },
    {
     "name": "stderr",
     "output_type": "stream",
     "text": [
      "100%|██████████| 4/4 [02:19<00:00, 34.97s/it]\n"
     ]
    }
   ],
   "source": [
    "with torch.no_grad():\n",
    "    # 評価時の損失値と正解/認識結果を入れるリスト\n",
    "    total_preds_p = []\n",
    "\n",
    "    model.eval() # モデルを推論用に設定する\n",
    "    print(\"start prediction\")\n",
    "    for X, y in tqdm(data_loader_p):\n",
    "        X = X.to(USE_DEVICE) # GPUを使うときはGPUメモリ上に乗せる\n",
    "        y = y.to(USE_DEVICE) # GPUを使うときはGPUメモリ上に乗せる\n",
    "\n",
    "        res = model(X) # ニューラルネットワークの実行\n",
    "\n",
    "        res = res[0].detach().cpu().numpy().tolist()\n",
    "        X = X.detach().cpu().numpy().tolist()\n",
    "        for r, x in zip(res, X):\n",
    "            if np.all(np.array(x)==0) == True:\n",
    "                total_preds_p.append([0.5,0.5])\n",
    "            else:\n",
    "                total_preds_p.append(r)\n",
    "\n",
    "pred = torch.tensor(total_preds_p)\n",
    "psum = torch.sum(pred, axis=1, keepdim=True)\n",
    "pzero = (psum == 0).float()\n",
    "psum += pzero\n",
    "pred = pred / psum + pzero / 2\n",
    "pred = pred.detach().numpy().tolist()"
   ]
  },
  {
   "cell_type": "code",
   "execution_count": 28,
   "id": "082980ea",
   "metadata": {
    "execution": {
     "iopub.execute_input": "2023-06-24T07:31:36.419642Z",
     "iopub.status.busy": "2023-06-24T07:31:36.419212Z",
     "iopub.status.idle": "2023-06-24T07:31:36.426606Z",
     "shell.execute_reply": "2023-06-24T07:31:36.425525Z"
    },
    "papermill": {
     "duration": 0.236703,
     "end_time": "2023-06-24T07:31:36.428733",
     "exception": false,
     "start_time": "2023-06-24T07:31:36.192030",
     "status": "completed"
    },
    "tags": []
   },
   "outputs": [],
   "source": [
    "patients = {}\n",
    "for p, pred in zip(pred_ID, pred):\n",
    "    if p not in patients:\n",
    "        patients[p] = []\n",
    "    patients[p].append(pred)\n",
    "for p in list(df.patient_id):\n",
    "    if p not in patients:\n",
    "        patients[p] = [[0.5,0.5]]"
   ]
  },
  {
   "cell_type": "code",
   "execution_count": 29,
   "id": "3c90bebb",
   "metadata": {
    "execution": {
     "iopub.execute_input": "2023-06-24T07:31:36.880117Z",
     "iopub.status.busy": "2023-06-24T07:31:36.879732Z",
     "iopub.status.idle": "2023-06-24T07:31:36.903822Z",
     "shell.execute_reply": "2023-06-24T07:31:36.902623Z"
    },
    "papermill": {
     "duration": 0.253272,
     "end_time": "2023-06-24T07:31:36.906339",
     "exception": false,
     "start_time": "2023-06-24T07:31:36.653067",
     "status": "completed"
    },
    "tags": []
   },
   "outputs": [],
   "source": [
    "parient_ids, prob_laas, prob_ces = [], [], []\n",
    "for parient_id,v in patients.items():\n",
    "    prob_laa = np.mean([i[0] for i in v])\n",
    "    prob_ce = np.mean([i[1] for i in v])\n",
    "    parient_ids.append(parient_id)\n",
    "    prob_laas.append(prob_laa)\n",
    "    prob_ces.append(prob_ce)\n",
    "    \n",
    "pd.DataFrame({\"patient_id\":parient_ids,\"CE\":prob_ces,\"LAA\":prob_laas}).to_csv(\"submission.csv\", index=False)"
   ]
  },
  {
   "cell_type": "code",
   "execution_count": 30,
   "id": "c7620177",
   "metadata": {
    "execution": {
     "iopub.execute_input": "2023-06-24T07:31:37.359096Z",
     "iopub.status.busy": "2023-06-24T07:31:37.358714Z",
     "iopub.status.idle": "2023-06-24T07:31:38.421339Z",
     "shell.execute_reply": "2023-06-24T07:31:38.419991Z"
    },
    "papermill": {
     "duration": 1.290814,
     "end_time": "2023-06-24T07:31:38.423908",
     "exception": false,
     "start_time": "2023-06-24T07:31:37.133094",
     "status": "completed"
    },
    "tags": []
   },
   "outputs": [
    {
     "name": "stdout",
     "output_type": "stream",
     "text": [
      "patient_id,CE,LAA\r\n",
      "006388,0.5,0.5\r\n",
      "008e5c,0.5,0.5\r\n",
      "00c058,0.505832314491272,0.494167685508728\r\n",
      "01adc5,0.5,0.5\r\n"
     ]
    }
   ],
   "source": [
    "!head submission.csv"
   ]
  }
 ],
 "metadata": {
  "kernelspec": {
   "display_name": "Python 3",
   "language": "python",
   "name": "python3"
  },
  "language_info": {
   "codemirror_mode": {
    "name": "ipython",
    "version": 3
   },
   "file_extension": ".py",
   "mimetype": "text/x-python",
   "name": "python",
   "nbconvert_exporter": "python",
   "pygments_lexer": "ipython3",
   "version": "3.7.12"
  },
  "papermill": {
   "default_parameters": {},
   "duration": 8103.414387,
   "end_time": "2023-06-24T07:31:41.538910",
   "environment_variables": {},
   "exception": null,
   "input_path": "__notebook__.ipynb",
   "output_path": "__notebook__.ipynb",
   "parameters": {},
   "start_time": "2023-06-24T05:16:38.124523",
   "version": "2.3.4"
  }
 },
 "nbformat": 4,
 "nbformat_minor": 5
}
